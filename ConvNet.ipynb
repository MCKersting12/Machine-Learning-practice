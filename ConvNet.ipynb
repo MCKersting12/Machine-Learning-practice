{
 "cells": [
  {
   "cell_type": "code",
   "execution_count": 7,
   "metadata": {},
   "outputs": [
    {
     "name": "stdout",
     "output_type": "stream",
     "text": [
      "Train on 17500 samples, validate on 7500 samples\n",
      "Epoch 1/10\n",
      "17500/17500 [==============================] - 551s 32ms/sample - loss: 0.6874 - acc: 0.5609 - val_loss: 0.6718 - val_acc: 0.5848\n",
      "Epoch 2/10\n",
      "17500/17500 [==============================] - 559s 32ms/sample - loss: 0.6374 - acc: 0.6358 - val_loss: 0.6049 - val_acc: 0.6773\n",
      "Epoch 3/10\n",
      "17500/17500 [==============================] - 558s 32ms/sample - loss: 0.5719 - acc: 0.7049 - val_loss: 0.5542 - val_acc: 0.7189\n",
      "Epoch 4/10\n",
      "17500/17500 [==============================] - 553s 32ms/sample - loss: 0.5308 - acc: 0.7383 - val_loss: 0.5161 - val_acc: 0.7555\n",
      "Epoch 5/10\n",
      "17500/17500 [==============================] - 546s 31ms/sample - loss: 0.5143 - acc: 0.7508 - val_loss: 0.5181 - val_acc: 0.7488\n",
      "Epoch 6/10\n",
      "17500/17500 [==============================] - 539s 31ms/sample - loss: 0.4943 - acc: 0.7647 - val_loss: 0.5023 - val_acc: 0.7681\n",
      "Epoch 7/10\n",
      "17500/17500 [==============================] - 573s 33ms/sample - loss: 0.4779 - acc: 0.7742 - val_loss: 0.5018 - val_acc: 0.7573\n",
      "Epoch 8/10\n",
      "17500/17500 [==============================] - 576s 33ms/sample - loss: 0.4621 - acc: 0.7846 - val_loss: 0.4954 - val_acc: 0.7679\n",
      "Epoch 9/10\n",
      "17500/17500 [==============================] - 556s 32ms/sample - loss: 0.4493 - acc: 0.7940 - val_loss: 0.4848 - val_acc: 0.7759\n",
      "Epoch 10/10\n",
      "17500/17500 [==============================] - 543s 31ms/sample - loss: 0.4344 - acc: 0.8017 - val_loss: 0.4899 - val_acc: 0.7703\n"
     ]
    },
    {
     "data": {
      "text/plain": [
       "<tensorflow.python.keras.callbacks.History at 0x17f8b46e4a8>"
      ]
     },
     "execution_count": 7,
     "metadata": {},
     "output_type": "execute_result"
    }
   ],
   "source": [
    "import tensorflow as tf\n",
    "from tensorflow.keras.datasets import cifar10\n",
    "from tensorflow.keras.preprocessing.image import ImageDataGenerator\n",
    "from tensorflow.keras.models import Sequential\n",
    "from tensorflow.keras.layers import Dense, Dropout, Activation, Flatten\n",
    "from tensorflow.keras.layers import Conv2D, MaxPooling2D\n",
    "\n",
    "import pickle\n",
    "\n",
    "pickle_in = open(\"X.pickle\",\"rb\")\n",
    "X = pickle.load(pickle_in)\n",
    "\n",
    "pickle_in = open(\"y.pickle\",\"rb\")\n",
    "y = pickle.load(pickle_in)\n",
    "\n",
    "X = X/255.0\n",
    "\n",
    "model = Sequential()\n",
    "\n",
    "model.add(Conv2D(256, (3, 3), input_shape=X.shape[1:]))\n",
    "model.add(Activation('relu'))\n",
    "model.add(MaxPooling2D(pool_size=(2, 2)))\n",
    "\n",
    "model.add(Conv2D(256, (3, 3)))\n",
    "model.add(Activation('relu'))\n",
    "model.add(MaxPooling2D(pool_size=(2, 2)))\n",
    "\n",
    "model.add(Flatten())  # this converts our 3D feature maps to 1D feature vectors\n",
    "\n",
    "model.add(Dense(64))\n",
    "\n",
    "model.add(Dense(1))\n",
    "model.add(Activation('sigmoid'))\n",
    "\n",
    "model.compile(loss='binary_crossentropy',\n",
    "              optimizer='adam',\n",
    "              metrics=['accuracy'])\n",
    "\n",
    "model.fit(X, y, batch_size=32, epochs=10, validation_split=0.3)"
   ]
  },
  {
   "cell_type": "code",
   "execution_count": 8,
   "metadata": {},
   "outputs": [
    {
     "ename": "TypeError",
     "evalue": "can't pickle _thread.RLock objects",
     "output_type": "error",
     "traceback": [
      "\u001b[1;31m---------------------------------------------------------------------------\u001b[0m",
      "\u001b[1;31mTypeError\u001b[0m                                 Traceback (most recent call last)",
      "\u001b[1;32m<ipython-input-8-2078fd974385>\u001b[0m in \u001b[0;36m<module>\u001b[1;34m\u001b[0m\n\u001b[1;32m----> 1\u001b[1;33m \u001b[0mpickle\u001b[0m\u001b[1;33m.\u001b[0m\u001b[0mdump\u001b[0m\u001b[1;33m(\u001b[0m\u001b[0mmodel\u001b[0m\u001b[1;33m,\u001b[0m \u001b[0mopen\u001b[0m\u001b[1;33m(\u001b[0m\u001b[1;34m'trained.pickle'\u001b[0m\u001b[1;33m,\u001b[0m \u001b[1;34m'wb'\u001b[0m\u001b[1;33m)\u001b[0m\u001b[1;33m)\u001b[0m\u001b[1;33m\u001b[0m\u001b[1;33m\u001b[0m\u001b[0m\n\u001b[0m",
      "\u001b[1;31mTypeError\u001b[0m: can't pickle _thread.RLock objects"
     ]
    }
   ],
   "source": [
    "pickle.dump(model, open('trained.pickle', 'wb'))"
   ]
  },
  {
   "cell_type": "code",
   "execution_count": null,
   "metadata": {},
   "outputs": [],
   "source": []
  }
 ],
 "metadata": {
  "kernelspec": {
   "display_name": "Python 3",
   "language": "python",
   "name": "python3"
  },
  "language_info": {
   "codemirror_mode": {
    "name": "ipython",
    "version": 3
   },
   "file_extension": ".py",
   "mimetype": "text/x-python",
   "name": "python",
   "nbconvert_exporter": "python",
   "pygments_lexer": "ipython3",
   "version": "3.7.3"
  }
 },
 "nbformat": 4,
 "nbformat_minor": 2
}
